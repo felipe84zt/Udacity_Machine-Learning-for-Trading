{
 "cells": [
  {
   "cell_type": "code",
   "execution_count": null,
   "metadata": {},
   "outputs": [],
   "source": [
    "import pandas as pd\n",
    "import numpy as np\n",
    "import altair as alt\n",
    "alt.data_transformers.disable_max_rows()\n",
    "\n",
    "alt.renderers.enable('notebook')"
   ]
  },
  {
   "cell_type": "code",
   "execution_count": 183,
   "metadata": {},
   "outputs": [],
   "source": [
    "def plot_stocks(df_precos_acoes,lista_acoes):\n",
    "    \n",
    "    df_acoes=df_precos_acoes[df_precos_acoes['symbol'].isin(lista_acoes)]\n",
    "    df_acoes.loc[df_acoes['volume']>=0,'volume']=df_acoes['close_adjusted']*df_acoes['volume']\n",
    "    df_acoes.loc[df_acoes['close_adjusted']>=0,'close_adjusted']=np.log(df_acoes['close_adjusted'])\n",
    "    \n",
    "    brush = alt.selection(type='interval',encodings=['x'],fields=['date:T','symbol:N'])\n",
    "    pts=alt.selection(type=\"multi\",encodings=['x'])\n",
    "    \n",
    "    bar = alt.Chart(df_acoes).mark_bar().encode(alt.X('symbol:N',axis=alt.Axis(titleOpacity=0)),alt.Y('median(split_coefficient):Q',axis=None),\\\n",
    "                                                color=alt.condition(pts,alt.ColorValue(\"steelblue\"), alt.ColorValue(\"grey\"))).properties(width=800,height=100).add_selection(pts)\n",
    "       \n",
    "    lower=alt.Chart(df_acoes).mark_circle(size=4).encode(alt.X('date:T'),alt.Y('close_adjusted:Q',axis=alt.Axis(title='log_close_adjusted')),color='symbol:N',facet=alt.Facet('symbol:N',title='Stocks'),tooltip=['date:T']).properties(title='Prices',width=180,height=180,columns=4).transform_filter(pts)\n",
    "    \n",
    "    upper = alt.Chart(df_acoes, height=400, width=800).mark_area(interpolate='monotone').encode(alt.X('yearmonth(date):T',axis=alt.Axis(format=('%b %Y'),domain=False,tickSize=0)),\\\n",
    "                                                                                               alt.Y('sum(volume):Q',stack='normalize'),alt.Color('symbol:N',scale=alt.Scale(scheme='dark2'))).properties(title='Volume').transform_filter(pts)\n",
    "    \n",
    "    \n",
    "    \n",
    "    return bar & upper & lower"
   ]
  },
  {
   "cell_type": "code",
   "execution_count": 89,
   "metadata": {},
   "outputs": [],
   "source": [
    "def plot_stock_year(acao,df_acoes):\n",
    "    \n",
    "    serie_ = df_acoes[df_acoes['symbol']==acao]\n",
    "    grafico=alt.Chart(serie_).mark_area().encode(alt.X('month(date):T'),alt.Y('close_adjusted:Q',axis=alt.Axis(format='~s')),\\\n",
    "                                        facet=alt.Facet('year(date):O')).properties(title=acao,width=90,height=80,columns=5)\n",
    "    \n",
    "    return grafico"
   ]
  },
  {
   "cell_type": "code",
   "execution_count": null,
   "metadata": {},
   "outputs": [],
   "source": []
  }
 ],
 "metadata": {
  "kernelspec": {
   "display_name": "Python 3",
   "language": "python",
   "name": "python3"
  },
  "language_info": {
   "codemirror_mode": {
    "name": "ipython",
    "version": 3
   },
   "file_extension": ".py",
   "mimetype": "text/x-python",
   "name": "python",
   "nbconvert_exporter": "python",
   "pygments_lexer": "ipython3",
   "version": "3.7.3"
  }
 },
 "nbformat": 4,
 "nbformat_minor": 2
}
